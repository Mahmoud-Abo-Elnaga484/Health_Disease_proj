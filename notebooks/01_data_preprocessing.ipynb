{
 "cells": [
  {
   "cell_type": "markdown",
   "id": "c16b5001",
   "metadata": {},
   "source": [
    "# Data Preprocessing & Cleaning\n",
    "\n",
    "Steps:\n",
    "- Load dataset\n",
    "- Handle missing values\n",
    "- Encode categorical features\n",
    "- Scale numerical features\n",
    "- Exploratory Data Analysis (EDA)"
   ]
  },
  {
   "cell_type": "code",
   "execution_count": null,
   "id": "a43ab960",
   "metadata": {},
   "outputs": [],
   "source": [
    "# Write your code here"
   ]
  }
 ],
 "metadata": {},
 "nbformat": 4,
 "nbformat_minor": 5
}

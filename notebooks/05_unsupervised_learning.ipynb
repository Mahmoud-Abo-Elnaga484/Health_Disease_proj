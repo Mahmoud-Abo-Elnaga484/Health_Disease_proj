{
 "cells": [
  {
   "cell_type": "markdown",
   "id": "ba55d7c7",
   "metadata": {},
   "source": [
    "# Unsupervised Learning\n",
    "\n",
    "Steps:\n",
    "- Apply K-Means (Elbow method)\n",
    "- Apply Hierarchical Clustering (Dendrogram)\n",
    "- Compare clusters with actual labels"
   ]
  },
  {
   "cell_type": "code",
   "execution_count": null,
   "id": "0738c093",
   "metadata": {},
   "outputs": [],
   "source": [
    "# Write your code here"
   ]
  }
 ],
 "metadata": {},
 "nbformat": 4,
 "nbformat_minor": 5
}

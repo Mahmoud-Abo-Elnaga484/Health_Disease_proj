{
 "cells": [
  {
   "cell_type": "markdown",
   "id": "86f7d669",
   "metadata": {},
   "source": [
    "# PCA - Dimensionality Reduction\n",
    "\n",
    "Steps:\n",
    "- Apply PCA\n",
    "- Find optimal number of components\n",
    "- Visualize variance explained"
   ]
  },
  {
   "cell_type": "code",
   "execution_count": null,
   "id": "8741ddd0",
   "metadata": {},
   "outputs": [],
   "source": [
    "# Write your code here"
   ]
  }
 ],
 "metadata": {},
 "nbformat": 4,
 "nbformat_minor": 5
}

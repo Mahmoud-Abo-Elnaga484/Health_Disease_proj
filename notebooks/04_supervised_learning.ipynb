{
 "cells": [
  {
   "cell_type": "markdown",
   "id": "e375d712",
   "metadata": {},
   "source": [
    "# Supervised Learning Models\n",
    "\n",
    "Steps:\n",
    "- Train Logistic Regression, Decision Tree, Random Forest, SVM\n",
    "- Evaluate models (Accuracy, Precision, Recall, F1-score)\n",
    "- Plot ROC & AUC"
   ]
  },
  {
   "cell_type": "code",
   "execution_count": null,
   "id": "7b23ca65",
   "metadata": {},
   "outputs": [],
   "source": [
    "# Write your code here"
   ]
  }
 ],
 "metadata": {},
 "nbformat": 4,
 "nbformat_minor": 5
}

{
 "cells": [
  {
   "cell_type": "markdown",
   "id": "c8f13b25",
   "metadata": {},
   "source": [
    "# Hyperparameter Tuning\n",
    "\n",
    "Steps:\n",
    "- Use GridSearchCV & RandomizedSearchCV\n",
    "- Optimize best performing models\n",
    "- Compare baseline vs optimized results"
   ]
  },
  {
   "cell_type": "code",
   "execution_count": null,
   "id": "f4c213ac",
   "metadata": {},
   "outputs": [],
   "source": [
    "# Write your code here"
   ]
  }
 ],
 "metadata": {},
 "nbformat": 4,
 "nbformat_minor": 5
}
